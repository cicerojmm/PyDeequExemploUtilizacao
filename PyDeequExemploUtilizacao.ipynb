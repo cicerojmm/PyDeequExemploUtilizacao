{
 "cells": [
  {
   "cell_type": "code",
   "execution_count": 3,
   "id": "7df61d5a",
   "metadata": {},
   "outputs": [
    {
     "name": "stdout",
     "output_type": "stream",
     "text": [
      "Collecting pydeequ\n",
      "  Downloading pydeequ-1.0.1-py3-none-any.whl (36 kB)\n",
      "Requirement already satisfied: pandas>=0.23.0 in /opt/conda/lib/python3.9/site-packages (from pydeequ) (1.2.4)\n",
      "Requirement already satisfied: numpy>=1.14.1 in /opt/conda/lib/python3.9/site-packages (from pydeequ) (1.20.3)\n",
      "Requirement already satisfied: python-dateutil>=2.7.3 in /opt/conda/lib/python3.9/site-packages (from pandas>=0.23.0->pydeequ) (2.8.1)\n",
      "Requirement already satisfied: pytz>=2017.3 in /opt/conda/lib/python3.9/site-packages (from pandas>=0.23.0->pydeequ) (2021.1)\n",
      "Requirement already satisfied: six>=1.5 in /opt/conda/lib/python3.9/site-packages (from python-dateutil>=2.7.3->pandas>=0.23.0->pydeequ) (1.16.0)\n",
      "Installing collected packages: pydeequ\n",
      "Successfully installed pydeequ-1.0.1\n"
     ]
    }
   ],
   "source": [
    "!pip install pydeequ"
   ]
  },
  {
   "cell_type": "code",
   "execution_count": 11,
   "id": "78e7d528",
   "metadata": {},
   "outputs": [
    {
     "name": "stdout",
     "output_type": "stream",
     "text": [
      "--2021-09-06 23:34:18--  https://s3-sa-east-1.amazonaws.com/ckan.saude.gov.br/dados-go-1.csv\n",
      "Resolving s3-sa-east-1.amazonaws.com (s3-sa-east-1.amazonaws.com)... 52.95.165.74\n",
      "Connecting to s3-sa-east-1.amazonaws.com (s3-sa-east-1.amazonaws.com)|52.95.165.74|:443... connected.\n",
      "HTTP request sent, awaiting response... 200 OK\n",
      "Length: 310178081 (296M) [application/octet-stream]\n",
      "Saving to: ‘dados-go-1.csv.1’\n",
      "\n",
      "dados-go-1.csv.1    100%[===================>] 295.81M   808KB/s    in 3m 45s  \n",
      "\n",
      "2021-09-06 23:38:03 (1.32 MB/s) - ‘dados-go-1.csv.1’ saved [310178081/310178081]\n",
      "\n"
     ]
    }
   ],
   "source": [
    "!wget https://s3-sa-east-1.amazonaws.com/ckan.saude.gov.br/dados-go-1.csv"
   ]
  },
  {
   "cell_type": "code",
   "execution_count": 12,
   "id": "e9fdb379",
   "metadata": {},
   "outputs": [
    {
     "name": "stdout",
     "output_type": "stream",
     "text": [
      "--2021-09-06 23:38:04--  https://s3-sa-east-1.amazonaws.com/ckan.saude.gov.br/dados-go-2.csv\n",
      "Resolving s3-sa-east-1.amazonaws.com (s3-sa-east-1.amazonaws.com)... 52.95.164.30\n",
      "Connecting to s3-sa-east-1.amazonaws.com (s3-sa-east-1.amazonaws.com)|52.95.164.30|:443... connected.\n",
      "HTTP request sent, awaiting response... 200 OK\n",
      "Length: 316133278 (301M) [application/octet-stream]\n",
      "Saving to: ‘dados-go-2.csv.1’\n",
      "\n",
      "dados-go-2.csv.1    100%[===================>] 301.49M  2.84MB/s    in 2m 26s  \n",
      "\n",
      "2021-09-06 23:40:31 (2.06 MB/s) - ‘dados-go-2.csv.1’ saved [316133278/316133278]\n",
      "\n"
     ]
    }
   ],
   "source": [
    "!wget https://s3-sa-east-1.amazonaws.com/ckan.saude.gov.br/dados-go-2.csv"
   ]
  },
  {
   "cell_type": "code",
   "execution_count": 13,
   "id": "d473e546",
   "metadata": {},
   "outputs": [],
   "source": [
    "from pyspark.sql import SparkSession, Row\n",
    "from pyspark.sql.functions import col,when\n",
    "import pydeequ\n",
    "\n",
    "spark = (SparkSession\n",
    "    .builder\n",
    "    .config(\"spark.jars.packages\", pydeequ.deequ_maven_coord)\n",
    "    .config(\"spark.jars.excludes\", pydeequ.f2j_maven_coord)\n",
    "    .getOrCreate())\n",
    "\n",
    "spark.conf.set('spark.sql.repl.eagerEval.enabled', True)"
   ]
  },
  {
   "cell_type": "code",
   "execution_count": 2,
   "id": "82534bb1",
   "metadata": {},
   "outputs": [],
   "source": [
    "#importação do primeiro dataset de Goias\n",
    "df1 = (spark\n",
    "       .read\n",
    "       .format(\"csv\")\n",
    "       .option(\"header\", \"true\")\n",
    "       .option(\"encoding\", \"ISO-8859-1\")\n",
    "       .load(\"dados-go-1.csv\", sep = ';'))\n",
    "\n",
    "df2 = (spark\n",
    "       .read\n",
    "       .format(\"csv\")\n",
    "       .option(\"header\", \"true\")\n",
    "       .option(\"encoding\", \"ISO-8859-1\")\n",
    "       .load(\"dados-go-2.csv\", sep = ';'))\n",
    "\n",
    "# juntando os dois datasets\n",
    "df = df1.union(df2)   "
   ]
  },
  {
   "cell_type": "code",
   "execution_count": 3,
   "id": "5d17ae26",
   "metadata": {},
   "outputs": [],
   "source": [
    "# realizando algumas limpezas prévia nos dados\n",
    "df = df.withColumnRenamed('ÿid', 'id')\n",
    "df = df.withColumn(\"resultadoTeste\", when(\n",
    "       col(\"resultadoTeste\") == \"null\", None).otherwise(col(\"resultadoTeste\")))\n",
    "df = df.withColumn(\"sintomas\", when(\n",
    "       col(\"sintomas\") == \"null\", None).otherwise(col(\"sintomas\")))\n",
    "df = df.withColumn(\"dataTeste\", when(\n",
    "       col(\"dataTeste\") == \"null\", None).otherwise(col(\"dataTeste\")))\n",
    "df = df.withColumn(\"tipoTeste\", when(\n",
    "       col(\"tipoTeste\") == \"null\", None).otherwise(col(\"tipoTeste\")))\n",
    "df = df.withColumn(\"idade\", when(col(\"idade\") == \"null\", 0).otherwise(col(\"idade\")))\n",
    "df = df.withColumn(\"dataNascimento\", when(\n",
    "       col(\"dataNascimento\") == \"undefined\", None).otherwise(col(\"dataNascimento\")))\n",
    "df = df.withColumn(\"sexo\", when(col(\"sexo\") == \"Feminino\", 0).when(\n",
    "  col(\"sexo\") == \"Masculino\", 1).when(col(\"sexo\") == \"Indefinido\", 2).otherwise(col(\"sexo\")))\n",
    "df = df.withColumn(\"idade\", col(\"idade\").cast('int'))\n",
    "df = df.withColumn(\"sexo\", col(\"sexo\").cast('int')) "
   ]
  },
  {
   "cell_type": "code",
   "execution_count": 4,
   "id": "521ddab1",
   "metadata": {},
   "outputs": [
    {
     "name": "stdout",
     "output_type": "stream",
     "text": [
      "+-------+--------------+------------+------------------+\n",
      "| entity|      instance|        name|             value|\n",
      "+-------+--------------+------------+------------------+\n",
      "| Column|         idade|Completeness|0.9999990438033677|\n",
      "| Column|         idade|        Mean| 37.38176282667294|\n",
      "| Column|      sintomas|Completeness|0.9998871687973915|\n",
      "| Column|resultadoTeste|Completeness|0.7253707652441648|\n",
      "| Column|     dataTeste|Completeness|0.7616000994444497|\n",
      "|Dataset|             *|        Size|         1045810.0|\n",
      "| Column|dataNascimento|Completeness|               0.0|\n",
      "| Column|     tipoTeste|Completeness|0.8788718792132414|\n",
      "+-------+--------------+------------+------------------+\n",
      "\n"
     ]
    }
   ],
   "source": [
    "from pydeequ.analyzers import Completeness, Size, ApproxCountDistinct, Correlation, AnalysisRunner, Mean, AnalyzerContext\n",
    "\n",
    "analysisResult = (AnalysisRunner(spark)\n",
    "                    .onData(df)\n",
    "                    .addAnalyzer(Size())\n",
    "                    .addAnalyzer(Completeness(\"dataNascimento\"))\n",
    "                    .addAnalyzer(Completeness(\"idade\"))\n",
    "                    .addAnalyzer(Completeness(\"sintomas\"))\n",
    "                    .addAnalyzer(Completeness(\"dataTeste\"))\n",
    "                    .addAnalyzer(Completeness(\"tipoTeste\"))\n",
    "                    .addAnalyzer(Completeness(\"resultadoTeste\"))\n",
    "                    .addAnalyzer(Mean(\"idade\"))\n",
    "                    .run())\n",
    "\n",
    "analysisResult_df = AnalyzerContext.successMetricsAsDataFrame(spark, analysisResult)\n",
    "analysisResult_df.show()"
   ]
  },
  {
   "cell_type": "code",
   "execution_count": 5,
   "id": "f5605019",
   "metadata": {},
   "outputs": [
    {
     "name": "stdout",
     "output_type": "stream",
     "text": [
      "Python Callback server started!\n",
      "+------------+-----------+------------+--------------------+-----------------+--------------------+\n",
      "|       check|check_level|check_status|          constraint|constraint_status|  constraint_message|\n",
      "+------------+-----------+------------+--------------------+-----------------+--------------------+\n",
      "|Review Check|    Warning|     Warning|UniquenessConstra...|          Success|                    |\n",
      "|Review Check|    Warning|     Warning|MinimumConstraint...|          Failure|Can't execute the...|\n",
      "|Review Check|    Warning|     Warning|MaximumConstraint...|          Failure|Can't execute the...|\n",
      "|Review Check|    Warning|     Warning|ComplianceConstra...|          Success|                    |\n",
      "+------------+-----------+------------+--------------------+-----------------+--------------------+\n",
      "\n"
     ]
    }
   ],
   "source": [
    "\n",
    "from pydeequ.checks import *\n",
    "from pydeequ.verification import *\n",
    "\n",
    "\n",
    "check = Check(spark, CheckLevel.Warning, \"Review Check\")\n",
    "\n",
    "checkResult = (VerificationSuite(spark)\n",
    "    .onData(df)\n",
    "    .addCheck(\n",
    "        check.isUnique(\"id\")\n",
    "        .hasMin(\"idade\", _ == 0)\n",
    "        .hasMax(\"idade\", _ == 110)\n",
    "        .isContainedIn(\"resultadoTeste\", [\"Negativo\", \"Positivo\", \"Inconclusivo ou Indeterminado\"])\n",
    "    )\n",
    "    .run())\n",
    "\n",
    "checkResult_df = VerificationResult.checkResultsAsDataFrame(spark, checkResult)\n",
    "checkResult_df.show()"
   ]
  },
  {
   "cell_type": "code",
   "execution_count": 14,
   "id": "a552d875",
   "metadata": {},
   "outputs": [],
   "source": [
    "from pydeequ.repository import *\n",
    "from pydeequ.analyzers import *\n",
    "\n",
    "repository = FileSystemMetricsRepository(spark, 's3://deequ-testes/reports/metrics.json')\n",
    "key_tags = {'tag': 'pydeequ medium'}\n",
    "resultKey = ResultKey(spark, ResultKey.current_milli_time(), key_tags)\n",
    "\n",
    "analysisResult = (AnalysisRunner(spark)\n",
    "                    .onData(df)\n",
    "                    .addAnalyzer(Size())\n",
    "                    .addAnalyzer(Completeness(\"dataNascimento\"))\n",
    "                    .addAnalyzer(Completeness(\"idade\"))\n",
    "                    .addAnalyzer(Completeness(\"sintomas\"))\n",
    "                    .addAnalyzer(Completeness(\"dataTeste\"))\n",
    "                    .addAnalyzer(Completeness(\"tipoTeste\"))\n",
    "                    .addAnalyzer(Completeness(\"resultadoTeste\"))\n",
    "                    .addAnalyzer(Mean(\"idade\"))\n",
    "                    .useRepository(repository)\n",
    "                    .saveOrAppendResult(resultKey)\n",
    "                    .run())"
   ]
  }
 ],
 "metadata": {
  "kernelspec": {
   "display_name": "Python 3",
   "language": "python",
   "name": "python3"
  },
  "language_info": {
   "codemirror_mode": {
    "name": "ipython",
    "version": 3
   },
   "file_extension": ".py",
   "mimetype": "text/x-python",
   "name": "python",
   "nbconvert_exporter": "python",
   "pygments_lexer": "ipython3",
   "version": "3.9.4"
  }
 },
 "nbformat": 4,
 "nbformat_minor": 5
}
